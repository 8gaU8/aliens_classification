{
 "cells": [
  {
   "cell_type": "code",
   "execution_count": null,
   "id": "168c6814-cd39-420a-8a20-d2d5cde365bb",
   "metadata": {},
   "outputs": [],
   "source": [
    "import os\n",
    "import pathlib\n",
    "import random\n",
    "\n",
    "import cv2\n",
    "from tqdm import tqdm\n",
    "\n"
   ]
  },
  {
   "cell_type": "code",
   "execution_count": null,
   "id": "a9146617-df27-427c-bd6e-b16912df5592",
   "metadata": {},
   "outputs": [],
   "source": [
    "data_root = pathlib.Path( os.getcwd() +  '/images')\n",
    "\n",
    "train_path = data_root / 'train'\n",
    "valid_path = data_root / 'valid'\n",
    "\n",
    "aug_train_path = data_root / 'aug_train2'\n",
    "aug_valid_path = data_root / 'aug_valid2'"
   ]
  },
  {
   "cell_type": "code",
   "execution_count": null,
   "id": "4a8ca7d9-0f1d-40f4-a4b2-48bd3d368e06",
   "metadata": {},
   "outputs": [],
   "source": [
    "def padding(im):\n",
    "    h, w, _ = im.shape\n",
    "    if h == w:\n",
    "        return im\n",
    "    elif h > w:\n",
    "        pad = int((h-w)/2)\n",
    "        im = cv2.copyMakeBorder(im, 0, 0, pad, pad, cv2.BORDER_CONSTANT, (0, 0, 0))\n",
    "        return im\n",
    "    elif w > h:\n",
    "        pad = int((w-h)/2)\n",
    "        im = cv2.copyMakeBorder(im,  pad, pad, 0, 0, cv2.BORDER_CONSTANT, (0, 0, 0))\n",
    "        \n",
    "        return im\n",
    "def resize_with_pad(im, size):\n",
    "    im = padding(im)\n",
    "    im = cv2.resize(im, size)\n",
    "    return im\n",
    "\n",
    "def preprocess(path):\n",
    "    im = cv2.imread(path)\n",
    "#     resize_with_pad(im)\n",
    "#     im = padding(im)\n",
    "    im = resize_with_pad(im, (192,192))\n",
    "\n",
    "    angle = random.randrange(-30, 30)\n",
    "    flip = random.randrange(0, 2)\n",
    "    if flip == 1:\n",
    "        im = cv2.flip(im, flip)\n",
    "\n",
    "    h, w, c = im.shape\n",
    "    mat = cv2.getRotationMatrix2D( (int(w/2), int(h/2)), angle,  1)\n",
    "    affine_img = cv2.warpAffine(im, mat, (w, h))\n",
    "    return affine_img\n",
    "\n",
    "    "
   ]
  },
  {
   "cell_type": "code",
   "execution_count": null,
   "id": "52de7bda-188b-413d-8618-31a8a5ca6a26",
   "metadata": {
    "tags": []
   },
   "outputs": [],
   "source": [
    "for image_class in valid_path.iterdir():\n",
    "    print(image_class)\n",
    "    for item in tqdm(image_class.iterdir()):\n",
    "#         print(item.parent.name)\n",
    "        org_im = cv2.imread(str(item))\n",
    "        org_im = resize_with_pad(org_im, (192,192))\n",
    "        cv2.imwrite(str(aug_valid_path / image_class.name / item.name ), org_im)\n",
    "#         for i in range(3):\n",
    "#             im = preprocess(str(item))\n",
    "#             cv2.imwrite(str(aug_train_path / image_class.name / (str(item.stem) + f'_{i}' + str(item.suffix))), im)\n",
    "#         print(str(aug_train_path / image_class.name / item.name))\n"
   ]
  },
  {
   "cell_type": "code",
   "execution_count": null,
   "id": "a11a6eb0-1804-4673-8c8c-b4bf92855175",
   "metadata": {},
   "outputs": [],
   "source": [
    "impath =  '~/ML/dalekcls/images/aug_train/dalek/dalek_000.jpg'\n",
    "im = cv2.imread(impath)"
   ]
  },
  {
   "cell_type": "code",
   "execution_count": null,
   "id": "2b196588-49c5-4ffc-992f-806b7b4d255c",
   "metadata": {},
   "outputs": [],
   "source": [
    "import matplotlib.pyplot as plt"
   ]
  },
  {
   "cell_type": "code",
   "execution_count": null,
   "id": "90a73fb6-2709-4fdc-b49f-7cf0c709c68c",
   "metadata": {},
   "outputs": [],
   "source": [
    "plt.imshow(im)"
   ]
  },
  {
   "cell_type": "code",
   "execution_count": null,
   "id": "643c2b36-3685-4e03-9e38-018c0f1b4138",
   "metadata": {},
   "outputs": [],
   "source": [
    "im = cv2.flip(im, 1)\n",
    "plt.imshow(im)"
   ]
  },
  {
   "cell_type": "code",
   "execution_count": null,
   "id": "b8917395-e63d-488e-95f6-3dae1ae7e62e",
   "metadata": {},
   "outputs": [],
   "source": [
    "h, w,c = im.shape\n",
    "im = cv2.flip(im, 1)\n",
    "mat = cv2.getRotationMatrix2D( (int(w/2), int(h/2)), 45,  1)\n",
    "affine_img = cv2.warpAffine(im, mat, (w, h))\n",
    "plt.imshow(affine_img)\n"
   ]
  },
  {
   "cell_type": "code",
   "execution_count": null,
   "id": "cf49f9d6-0680-4f72-9a22-243b84f96501",
   "metadata": {},
   "outputs": [],
   "source": [
    "import random"
   ]
  },
  {
   "cell_type": "code",
   "execution_count": null,
   "id": "67375f89-340a-4325-8505-aa17d232e5b1",
   "metadata": {},
   "outputs": [],
   "source": [
    "angle = random.randrange(-45,45)\n",
    "flip = random.randrange(0, 2)\n",
    "angle, flip"
   ]
  },
  {
   "cell_type": "code",
   "execution_count": null,
   "id": "15c00b40-006e-4980-9d91-1e5bd4c50c62",
   "metadata": {},
   "outputs": [],
   "source": [
    "def preprocess(path):\n",
    "    im = cv2.imread(path)\n",
    "    im = padding(im)\n",
    "    im = cv2.resize(im, (192,192))\n",
    "\n",
    "    angle = random.randrange(-30, 30)\n",
    "    flip = random.randrange(0, 2)\n",
    "    if flip == 1:\n",
    "        im = cv2.flip(im, flip)\n",
    "\n",
    "    h, w, c = im.shape\n",
    "    mat = cv2.getRotationMatrix2D( (int(w/2), int(h/2)), angle,  1)\n",
    "    affine_img = cv2.warpAffine(im, mat, (w, h))\n",
    "    return affine_img\n",
    "\n",
    "impath =  '~/ML/dalekcls/images/train/dalek/dalek_125.jpg'\n",
    "# im = cv2.imread(impath)\n",
    "im = preprocess(impath)\n",
    "print(im.shape)\n",
    "plt.imshow(im)\n"
   ]
  },
  {
   "cell_type": "code",
   "execution_count": null,
   "id": "3bc21251-2937-472b-a2e9-11581fb215b9",
   "metadata": {},
   "outputs": [],
   "source": [
    "def padding(im):\n",
    "    h, w, _ = im.shape\n",
    "    if h == w:\n",
    "        return im\n",
    "    elif h > w:\n",
    "        pad = int((h-w)/2)\n",
    "        im = cv2.copyMakeBorder(im, 0, 0, pad, pad, cv2.BORDER_CONSTANT, (0, 0, 0))\n",
    "        return im\n",
    "    elif w > h:\n",
    "        pad = int((w-h)/2)\n",
    "        im = cv2.copyMakeBorder(im,  pad, pad, 0, 0, cv2.BORDER_CONSTANT, (0, 0, 0))\n",
    "        \n",
    "        return im\n",
    "    "
   ]
  },
  {
   "cell_type": "code",
   "execution_count": null,
   "id": "c69d30ad-c3bd-4fa6-bb61-458c7f6574d6",
   "metadata": {},
   "outputs": [],
   "source": [
    "impath =  '~/ML/dalekcls/images/train/dalek/dalek_125.jpg'\n",
    "im = cv2.imread(impath)\n",
    "im = padding(im)\n",
    "plt.imshow(im)"
   ]
  },
  {
   "cell_type": "code",
   "execution_count": null,
   "id": "17eef067-5bed-4e42-b3cb-162d9ef6a398",
   "metadata": {},
   "outputs": [],
   "source": [
    "impath =  '~/ML/dalekcls/images/train/dalek/dalek_125.jpg'\n",
    "\n"
   ]
  },
  {
   "cell_type": "code",
   "execution_count": null,
   "id": "6380317c-38db-49a4-9a24-d7ffd0aed2a8",
   "metadata": {},
   "outputs": [],
   "source": [
    "a = 192/max(im.shape)\n",
    "(int(a*im.shape[0]), int(a*im.shape[1]))"
   ]
  },
  {
   "cell_type": "code",
   "execution_count": null,
   "id": "6366e238-ca1d-4c2b-b814-1672d0899bad",
   "metadata": {},
   "outputs": [],
   "source": [
    "im = cv2.imread(impath)\n",
    "im = cv2.resize(im, (int(a*im.shape[0]), int(a*im.shape[1])))\n",
    "bg = np.zeros((192,192,3)).astype(np.uint8)\n",
    "\n",
    "\n",
    "# print(bg.shape)\n",
    "# np.zeros((4,3,2))\n",
    "# print(im.shape)"
   ]
  },
  {
   "cell_type": "code",
   "execution_count": null,
   "id": "e4101e13-fec4-4210-b3c7-4aacaa58375b",
   "metadata": {},
   "outputs": [],
   "source": []
  },
  {
   "cell_type": "code",
   "execution_count": null,
   "id": "18f5f3bf-a459-47d7-8483-e7a63c80c77d",
   "metadata": {},
   "outputs": [],
   "source": []
  }
 ],
 "metadata": {
  "kernelspec": {
   "display_name": "Python 3",
   "language": "python",
   "name": "python3"
  },
  "language_info": {
   "codemirror_mode": {
    "name": "ipython",
    "version": 3
   },
   "file_extension": ".py",
   "mimetype": "text/x-python",
   "name": "python",
   "nbconvert_exporter": "python",
   "pygments_lexer": "ipython3",
   "version": "3.8.8"
  }
 },
 "nbformat": 4,
 "nbformat_minor": 5
}
